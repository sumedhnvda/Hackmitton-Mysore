{
 "cells": [
  {
   "cell_type": "code",
   "execution_count": 2,
   "id": "3d62fdec",
   "metadata": {},
   "outputs": [
    {
     "name": "stdout",
     "output_type": "stream",
     "text": [
      "RGB: (np.int64(174), np.int64(174), np.int64(174)), Count: 32133, sRGB: (np.float64(0.6833102369258254), np.float64(0.6831457246017458), np.float64(0.6832946155775278))\n",
      "RGB: (np.int64(49), np.int64(49), np.int64(49)), Count: 23227, sRGB: (np.float64(0.1926272416229693), np.float64(0.1924840681526159), np.float64(0.1924884579052118))\n",
      "RGB: (np.int64(252), np.int64(252), np.int64(252)), Count: 43380, sRGB: (np.float64(0.9915271336750577), np.float64(0.991482295084868), np.float64(0.9915232464586343))\n",
      "RGB: (np.int64(141), np.int64(141), np.int64(141)), Count: 31747, sRGB: (np.float64(0.5550853346031778), np.float64(0.5549469858816359), np.float64(0.5550738467182624))\n",
      "RGB: (np.int64(109), np.int64(109), np.int64(109)), Count: 21977, sRGB: (np.float64(0.4300222960367718), np.float64(0.429908451527315), np.float64(0.4300083777425095))\n",
      "RGB: (np.int64(27), np.int64(25), np.int64(24)), Count: 37738, sRGB: (np.float64(0.10681219013654578), np.float64(0.09884653633568179), np.float64(0.09463047076914331))\n",
      "RGB: (np.int64(212), np.int64(212), np.int64(212)), Count: 25543, sRGB: (np.float64(0.8321520112566915), np.float64(0.8319528852922461), np.float64(0.832131592017453))\n",
      "RGB: (np.int64(78), np.int64(77), np.int64(77)), Count: 22680, sRGB: (np.float64(0.30728654424733776), np.float64(0.30436628972578067), np.float64(0.30298544109001047))\n"
     ]
    }
   ],
   "source": [
    "from sklearn.cluster import KMeans\n",
    "import numpy as np\n",
    "from PIL import Image\n",
    "\n",
    "\n",
    "img = Image.open(\"b&w.png\").convert(\"RGB\")\n",
    "pixels = np.array(img).reshape(-1, 3)\n",
    "\n",
    "\n",
    "kmeans = KMeans(n_clusters=8, random_state=42).fit(pixels)\n",
    "colors = kmeans.cluster_centers_  \n",
    "counts = np.bincount(kmeans.labels_)\n",
    "\n",
    "\n",
    "srgb = colors / 255.0\n",
    "\n",
    "\n",
    "for color, count, srgb_val in zip(colors.astype(int), counts, srgb):\n",
    "    print(f\"RGB: {tuple(color)}, Count: {count}, sRGB: {tuple(srgb_val)}\")\n"
   ]
  },
  {
   "cell_type": "code",
   "execution_count": null,
   "id": "7ea75c61",
   "metadata": {},
   "outputs": [],
   "source": [
    "import os\n",
    "import shutil\n",
    "import subprocess\n",
    "\n",
    "# -------------- CONFIG --------------\n",
    "\n",
    "# GitHub repo URL\n",
    "REPO_URL = 'https://github.com/dharmx/walls.git'\n",
    "\n",
    "# Local temporary folder to clone into\n",
    "CLONE_DIR = 'walls_repo'\n",
    "\n",
    "# Destination folder where all images will be copied\n",
    "DEST_DIR = 'all_wallpapers'\n",
    "\n",
    "# Allowed image extensions\n",
    "IMAGE_EXTS = {'.jpg', '.jpeg', '.png', '.gif', '.webp', '.bmp', '.tiff'}\n",
    "\n",
    "# -------------- SCRIPT --------------\n",
    "\n",
    "def clone_repo(repo_url: str, clone_to: str):\n",
    "    if os.path.exists(clone_to):\n",
    "        print(f\"Directory {clone_to} already exists. Skipping clone.\")\n",
    "    else:\n",
    "        print(f\"Cloning {repo_url} into {clone_to} ...\")\n",
    "        subprocess.run(['git', 'clone', repo_url, clone_to], check=True)\n",
    "\n",
    "def ensure_dir(path: str):\n",
    "    if not os.path.exists(path):\n",
    "        os.makedirs(path)\n",
    "\n",
    "def is_image_file(filename: str):\n",
    "    _, ext = os.path.splitext(filename.lower())\n",
    "    return ext in IMAGE_EXTS\n",
    "\n",
    "def extract_images(src_root: str, dest_root: str):\n",
    "    ensure_dir(dest_root)\n",
    "    count = 0\n",
    "    for root, dirs, files in os.walk(src_root):\n",
    "        # optional: skip .git etc\n",
    "        if '.git' in root.split(os.sep):\n",
    "            continue\n",
    "        for fname in files:\n",
    "            if is_image_file(fname):\n",
    "                src_path = os.path.join(root, fname)\n",
    "                # To avoid conflicts, you might want to rename duplicates:\n",
    "                dest_fname = fname\n",
    "                dest_path = os.path.join(dest_root, dest_fname)\n",
    "                # If file with same name exists, append counter\n",
    "                i = 1\n",
    "                while os.path.exists(dest_path):\n",
    "                    name, ext = os.path.splitext(fname)\n",
    "                    dest_fname = f\"{name}_{i}{ext}\"\n",
    "                    dest_path = os.path.join(dest_root, dest_fname)\n",
    "                    i += 1\n",
    "                print(f\"Copying {src_path} -> {dest_path}\")\n",
    "                shutil.copy2(src_path, dest_path)\n",
    "                count += 1\n",
    "    print(f\"Done. {count} images copied to {dest_root}\")\n",
    "\n",
    "def main():\n",
    "    clone_repo(REPO_URL, CLONE_DIR)\n",
    "    extract_images(CLONE_DIR, DEST_DIR)\n",
    "\n",
    "if __name__ == '__main__':\n",
    "    main()\n"
   ]
  },
  {
   "cell_type": "code",
   "execution_count": null,
   "metadata": {},
   "outputs": [],
   "source": []
  },
  {
   "cell_type": "code",
   "execution_count": null,
   "metadata": {},
   "outputs": [],
   "source": []
  },
  {
   "cell_type": "code",
   "execution_count": null,
   "id": "15e045b3",
   "metadata": {},
   "outputs": [],
   "source": []
  }
 ],
 "metadata": {
  "kernelspec": {
   "display_name": "ml_learning",
   "language": "python",
   "name": "python3"
  },
  "language_info": {
   "codemirror_mode": {
    "name": "ipython",
    "version": 3
   },
   "file_extension": ".py",
   "mimetype": "text/x-python",
   "name": "python",
   "nbconvert_exporter": "python",
   "pygments_lexer": "ipython3",
   "version": "3.10.18"
  }
 },
 "nbformat": 4,
 "nbformat_minor": 5
}
